{
 "cells": [
  {
   "cell_type": "markdown",
   "metadata": {},
   "source": [
    "Extracción con el PDF sin texto"
   ]
  },
  {
   "cell_type": "code",
   "execution_count": 16,
   "metadata": {},
   "outputs": [
    {
     "name": "stdout",
     "output_type": "stream",
     "text": [
      "Requirement already satisfied: opencv-python in c:\\users\\yopab\\appdata\\local\\programs\\python\\python310\\lib\\site-packages (from -r requirements.txt (line 1)) (4.8.1.78)\n",
      "Requirement already satisfied: Pillow in c:\\users\\yopab\\appdata\\local\\programs\\python\\python310\\lib\\site-packages (from -r requirements.txt (line 2)) (10.1.0)\n",
      "Requirement already satisfied: PyMuPDF in c:\\users\\yopab\\appdata\\local\\programs\\python\\python310\\lib\\site-packages (from -r requirements.txt (line 3)) (1.23.6)\n",
      "Requirement already satisfied: PyPDF2 in c:\\users\\yopab\\appdata\\local\\programs\\python\\python310\\lib\\site-packages (from -r requirements.txt (line 4)) (3.0.1)\n",
      "Requirement already satisfied: pip in c:\\users\\yopab\\appdata\\local\\programs\\python\\python310\\lib\\site-packages (from -r requirements.txt (line 5)) (23.3.1)\n",
      "Requirement already satisfied: numpy>=1.21.2 in c:\\users\\yopab\\appdata\\local\\programs\\python\\python310\\lib\\site-packages (from opencv-python->-r requirements.txt (line 1)) (1.26.2)\n",
      "Requirement already satisfied: PyMuPDFb==1.23.6 in c:\\users\\yopab\\appdata\\local\\programs\\python\\python310\\lib\\site-packages (from PyMuPDF->-r requirements.txt (line 3)) (1.23.6)\n",
      "Note: you may need to restart the kernel to use updated packages.\n"
     ]
    }
   ],
   "source": [
    "pip install -r requirements.txt"
   ]
  },
  {
   "cell_type": "markdown",
   "metadata": {},
   "source": [
    "Convertir PDF a JPG de alta calidad "
   ]
  },
  {
   "cell_type": "code",
   "execution_count": null,
   "metadata": {},
   "outputs": [
    {
     "name": "stdout",
     "output_type": "stream",
     "text": [
      "Se han convertido 54 páginas a imágenes JPG.\n"
     ]
    }
   ],
   "source": [
    "import fitz\n",
    "import os\n",
    "\n",
    "def convert_pdf_to_jpg(pdf_path, output_folder, dpi=600):\n",
    "    \n",
    "    doc = fitz.open(pdf_path)\n",
    "    os.makedirs(output_folder, exist_ok=True)\n",
    "\n",
    "    for page_num in range(len(doc)):\n",
    "        page = doc.load_page(page_num)\n",
    "        \n",
    "        zoom = dpi / 72\n",
    "        mat = fitz.Matrix(zoom, zoom)\n",
    "\n",
    "        # Render\n",
    "        pix = page.get_pixmap(matrix=mat)\n",
    "\n",
    "        output_image_path = os.path.join(output_folder, f\"page_{page_num+1}.jpg\")\n",
    "        pix.save(output_image_path)\n",
    "\n",
    "    return len(doc)\n",
    "\n",
    "\n",
    "pdf_path = 'instruction_handbook - copia.pdf'  \n",
    "output_folder = 'imagenes_jpg'  \n",
    "#funcion que lo convierte a JPG\n",
    "num_pages = convert_pdf_to_jpg(pdf_path, output_folder)\n",
    "print(f\"Se han convertido {num_pages} páginas a imágenes JPG.\")\n"
   ]
  },
  {
   "cell_type": "markdown",
   "metadata": {},
   "source": [
    "Reconvertir las imagenes a PDF"
   ]
  },
  {
   "cell_type": "code",
   "execution_count": null,
   "metadata": {},
   "outputs": [
    {
     "name": "stdout",
     "output_type": "stream",
     "text": [
      "Las imágenes de 'imagenes_jpg' han sido convertidas a un PDF en 'instruction_handbook_jpg3.pdf'.\n"
     ]
    }
   ],
   "source": [
    "from PIL import Image\n",
    "import os\n",
    "import re\n",
    "\n",
    "def sort_key_func(file):\n",
    "    #ordenar\n",
    "    numbers = re.findall(r'\\d+', file)\n",
    "    return [int(num) for num in numbers]\n",
    "\n",
    "def convert_images_to_pdf(image_folder, output_pdf_path):\n",
    "   \n",
    "    images = [os.path.join(image_folder, img) for img in os.listdir(image_folder) if img.endswith((\".jpg\", \".jpeg\", \".png\"))]\n",
    "    images.sort(key=sort_key_func)  # Ordena segun el nobre\n",
    "\n",
    "    image_list = []\n",
    "\n",
    "    for img_path in images:\n",
    "        image = Image.open(img_path)\n",
    "        if image.mode != 'RGB':\n",
    "            image = image.convert('RGB')\n",
    "        image_list.append(image)\n",
    "\n",
    "    # Crea un PDF\n",
    "    if image_list:\n",
    "        image_list[0].save(output_pdf_path, save_all=True, append_images=image_list[1:], quality=100)\n",
    "\n",
    "image_folder = 'imagenes_jpg'\n",
    "output_pdf_path = 'instruction_handbook_jpg3.pdf'\n",
    "\n",
    "convert_images_to_pdf(image_folder, output_pdf_path)\n",
    "print(f\"Las imágenes de '{image_folder}' han sido convertidas a un PDF en '{output_pdf_path}'.\")\n"
   ]
  },
  {
   "cell_type": "markdown",
   "metadata": {},
   "source": [
    "Extraccion de imagenes de alta calidad del pdf"
   ]
  },
  {
   "cell_type": "code",
   "execution_count": 18,
   "metadata": {},
   "outputs": [
    {
     "name": "stdout",
     "output_type": "stream",
     "text": [
      "Se han extraído 2268 imágenes incrustadas.\n"
     ]
    }
   ],
   "source": [
    "import cv2\n",
    "import numpy as np\n",
    "import fitz \n",
    "import os\n",
    "\n",
    "def extract_embedded_images(pdf_path, output_folder):\n",
    "    doc = fitz.open(pdf_path)\n",
    "    os.makedirs(output_folder, exist_ok=True)\n",
    "    extracted_image_count = 0\n",
    "\n",
    "    for page_num in range(len(doc)):\n",
    "        page = doc.load_page(page_num)\n",
    "        pix = page.get_pixmap()\n",
    "        output_image_path = os.path.join(output_folder, f\"page_{page_num+1}.png\")\n",
    "        pix.save(output_image_path)\n",
    "\n",
    "        # Lee la página\n",
    "        page_image = cv2.imread(output_image_path)\n",
    "        gray = cv2.cvtColor(page_image, cv2.COLOR_BGR2GRAY)\n",
    "        _, thresh = cv2.threshold(gray, 150, 255, cv2.THRESH_BINARY_INV)\n",
    "\n",
    "        # Encontrar contornos\n",
    "        contours, _ = cv2.findContours(thresh, cv2.RETR_EXTERNAL, cv2.CHAIN_APPROX_SIMPLE)\n",
    "        image_index = 0\n",
    "\n",
    "        for contour in contours:\n",
    "            x, y, w, h = cv2.boundingRect(contour)\n",
    "            if w * h > 500:  # umbral\n",
    "                embedded_image = page_image[y:y+h, x:x+w]\n",
    "                embedded_image_path = os.path.join(output_folder, f\"pag_{page_num+1}_img_{image_index+1}.png\")\n",
    "                cv2.imwrite(embedded_image_path, embedded_image)\n",
    "                image_index += 1\n",
    "                extracted_image_count += 1\n",
    "\n",
    "    return extracted_image_count\n",
    "\n",
    "\n",
    "pdf_path = 'instruction_handbook_jpg3.pdf'\n",
    "output_folder = 'imagenes3' \n",
    "\n",
    "# Extraer imágenes\n",
    "num_images = extract_embedded_images(pdf_path, output_folder)\n",
    "print(f\"Se han extraído {num_images} imágenes incrustadas.\")\n"
   ]
  }
 ],
 "metadata": {
  "kernelspec": {
   "display_name": "Python 3",
   "language": "python",
   "name": "python3"
  },
  "language_info": {
   "codemirror_mode": {
    "name": "ipython",
    "version": 3
   },
   "file_extension": ".py",
   "mimetype": "text/x-python",
   "name": "python",
   "nbconvert_exporter": "python",
   "pygments_lexer": "ipython3",
   "version": "3.10.11"
  }
 },
 "nbformat": 4,
 "nbformat_minor": 2
}
