{
 "cells": [
  {
   "cell_type": "markdown",
   "metadata": {},
   "source": [
    "Convertir PDF a imagenes de alta calidad con diferentes extenciones"
   ]
  },
  {
   "cell_type": "code",
   "execution_count": 8,
   "metadata": {},
   "outputs": [
    {
     "name": "stdout",
     "output_type": "stream",
     "text": [
      "Se han convertido 54 páginas del archivo 'instruction_handbook - imagenes.pdf' a imágenes.\n",
      "Se han convertido 54 páginas del archivo 'instruction_handbook - iconos.pdf' a imágenes.\n",
      "Se han convertido 54 páginas del archivo 'instruction_handbook - maquinas.pdf' a imágenes.\n"
     ]
    }
   ],
   "source": [
    "import fitz \n",
    "import os\n",
    "\n",
    "def convert_pdf(pdf_path, output_folder, dpi=600):\n",
    "    # Extraer el identificador del nombre del archivo PDF (por ejemplo, 'iconos', 'maquinas', 'imagenes')\n",
    "    pdf_name = os.path.splitext(os.path.basename(pdf_path))[0]\n",
    "    identifier = pdf_name.split(' - ')[-1]\n",
    "\n",
    "    doc = fitz.open(pdf_path)\n",
    "    os.makedirs(output_folder, exist_ok=True)\n",
    "\n",
    "    img_counter = 1  # Contador de imagen\n",
    "\n",
    "    for page_num in range(len(doc)):\n",
    "        page = doc.load_page(page_num)\n",
    "\n",
    "        zoom = dpi / 72 \n",
    "        mat = fitz.Matrix(zoom, zoom)\n",
    "\n",
    "        pix = page.get_pixmap(matrix=mat)\n",
    "\n",
    "        # Formato del nombre de archivo: [identificador]_pag[page_num]_img[img_counter].extensión\n",
    "        if identifier == \"imagenes\":\n",
    "            image_format = \"jpg\"\n",
    "        elif identifier == \"iconos\":\n",
    "            image_format = \"png\"\n",
    "        elif identifier == \"maquinas\":\n",
    "            image_format = \"jpeg\"\n",
    "        else:\n",
    "            raise ValueError(\"Identificador desconocido en el nombre del archivo PDF.\")\n",
    "\n",
    "        output_image_path = os.path.join(output_folder, f\"{identifier}_pag{page_num+1}.{image_format}\")\n",
    "        pix.save(output_image_path)\n",
    "\n",
    "        img_counter += 1  # Incrementar contador de imágenes\n",
    "\n",
    "    return len(doc)\n",
    "\n",
    "pdf_files = [\n",
    "    'instruction_handbook - imagenes.pdf',\n",
    "    'instruction_handbook - iconos.pdf',\n",
    "    'instruction_handbook - maquinas.pdf'\n",
    "]\n",
    "\n",
    "output_folder = 'imagenes_convertidas'\n",
    "\n",
    "\n",
    "for pdf_file in pdf_files:\n",
    "    num_pages = convert_pdf(pdf_file, output_folder)\n",
    "    print(f\"Se han convertido {num_pages} páginas del archivo '{pdf_file}' a imágenes.\")\n"
   ]
  },
  {
   "cell_type": "markdown",
   "metadata": {},
   "source": [
    "Convertir las imagenes a PDF para no perder el orden de las imagenes"
   ]
  },
  {
   "cell_type": "code",
   "execution_count": 1,
   "metadata": {},
   "outputs": [
    {
     "name": "stdout",
     "output_type": "stream",
     "text": [
      "Las imágenes de la categoría 'icono' han sido convertidas a un PDF en 'pdf_creados\\instruction_icono.pdf'.\n",
      "Las imágenes de la categoría 'maquina' han sido convertidas a un PDF en 'pdf_creados\\instruction_maquina.pdf'.\n",
      "Las imágenes de la categoría 'imagen' han sido convertidas a un PDF en 'pdf_creados\\instruction_imagen.pdf'.\n"
     ]
    }
   ],
   "source": [
    "from PIL import Image\n",
    "import os\n",
    "import re\n",
    "\n",
    "def sort_key_func(file):\n",
    "    # Extrae números para ordenar correctamente\n",
    "    numbers = re.findall(r'\\d+', file)\n",
    "    return [int(num) for num in numbers]\n",
    "\n",
    "def convert_images_to_pdf(image_folder, output_pdf_path, category):\n",
    "    # ordena las imágenes por extención\n",
    "    images = [os.path.join(image_folder, img) for img in os.listdir(image_folder) if category in img and img.endswith((\".jpg\", \".jpeg\", \".png\"))]\n",
    "    images.sort(key=sort_key_func)\n",
    "\n",
    "    image_list = []\n",
    "\n",
    "    for img_path in images:\n",
    "        image = Image.open(img_path)\n",
    "        if image.mode != 'RGB':\n",
    "            image = image.convert('RGB')\n",
    "        image_list.append(image)\n",
    "\n",
    "    # Guarda las imágenes como un PDF\n",
    "    if image_list:\n",
    "        image_list[0].save(output_pdf_path, save_all=True, append_images=image_list[1:], quality=100)\n",
    "\n",
    "image_folder = 'imagenes_convertidas'\n",
    "\n",
    "# Categorías de imágenes\n",
    "categories = ['icono', 'maquina', 'imagen']\n",
    "\n",
    "# Convertir cada grupo de imágenes a un archivo PDF\n",
    "for category in categories:\n",
    "    output_pdf_path = f'pdf_creados\\instruction_{category}.pdf'\n",
    "    convert_images_to_pdf(image_folder, output_pdf_path, category)\n",
    "    print(f\"Las imágenes de la categoría '{category}' han sido convertidas a un PDF en '{output_pdf_path}'.\")\n"
   ]
  },
  {
   "cell_type": "markdown",
   "metadata": {},
   "source": [
    "Extraer las imagenes de los PDF"
   ]
  },
  {
   "cell_type": "code",
   "execution_count": 5,
   "metadata": {},
   "outputs": [
    {
     "name": "stdout",
     "output_type": "stream",
     "text": [
      "Se han extraído 192 imágenes incrustadas del archivo 'pdf_creados\\instruction_icono.pdf'.\n",
      "Se han extraído 77 imágenes incrustadas del archivo 'pdf_creados\\instruction_imagen.pdf'.\n",
      "Se han extraído 41 imágenes incrustadas del archivo 'pdf_creados\\instruction_maquina.pdf'.\n"
     ]
    }
   ],
   "source": [
    "import cv2\n",
    "import fitz\n",
    "import numpy as np\n",
    "import os\n",
    "\n",
    "def extract_embedded_images(pdf_path, output_folder):\n",
    "    # Identificar el formato de imagen basado en el nombre del archivo PDF\n",
    "    if \"imagen\" in pdf_path:\n",
    "        image_format = \"jpg\"\n",
    "    elif \"icono\" in pdf_path:\n",
    "        image_format = \"png\"\n",
    "    elif \"maquina\" in pdf_path:\n",
    "        image_format = \"jpeg\"\n",
    "    else:\n",
    "        raise ValueError(\"El nombre del archivo PDF no coincide con ningún criterio establecido.\")\n",
    "\n",
    "    doc = fitz.open(pdf_path)\n",
    "    os.makedirs(output_folder, exist_ok=True)\n",
    "    extracted_image_count = 0\n",
    "\n",
    "    for page_num in range(len(doc)):\n",
    "        page = doc.load_page(page_num)\n",
    "        pix = page.get_pixmap()\n",
    "        output_image_path = os.path.join(output_folder, f\"page_{page_num+1}.png\")\n",
    "        pix.save(output_image_path)\n",
    "\n",
    "        # Lee la página\n",
    "        page_image = cv2.imread(output_image_path)\n",
    "        gray = cv2.cvtColor(page_image, cv2.COLOR_BGR2GRAY)\n",
    "        _, thresh = cv2.threshold(gray, 150, 255, cv2.THRESH_BINARY_INV)\n",
    "\n",
    "        # Encontrar contornos\n",
    "        contours, _ = cv2.findContours(thresh, cv2.RETR_EXTERNAL, cv2.CHAIN_APPROX_SIMPLE)\n",
    "        image_index = 0\n",
    "\n",
    "        for contour in contours:\n",
    "            x, y, w, h = cv2.boundingRect(contour)\n",
    "            if w * h > 500:  # umbral\n",
    "                embedded_image = page_image[y:y+h, x:x+w]\n",
    "                embedded_image_path = os.path.join(output_folder, f\"pag_{page_num+1}_img_{image_index+1}.{image_format}\")\n",
    "                cv2.imwrite(embedded_image_path, embedded_image)\n",
    "                image_index += 1\n",
    "                extracted_image_count += 1\n",
    "\n",
    "    return extracted_image_count\n",
    "\n",
    "# Lista de archivos PDF para procesar\n",
    "def find_pdf_files(directory):\n",
    "    return [os.path.join(directory, file) for file in os.listdir(directory) if file.endswith('.pdf')]\n",
    "pdf_path = 'pdf_creados' \n",
    "pdf_files = find_pdf_files(pdf_path)\n",
    "\n",
    "# Procesar cada archivo PDF\n",
    "for pdf_file in pdf_files:\n",
    "    output_folder = f'imagenes_extraidas_{os.path.splitext(os.path.basename(pdf_file))[0]}'\n",
    "    num_images = extract_embedded_images(pdf_file, output_folder)\n",
    "    print(f\"Se han extraído {num_images} imágenes incrustadas del archivo '{pdf_file}'.\")\n"
   ]
  },
  {
   "cell_type": "markdown",
   "metadata": {},
   "source": [
    "Convertir las imagenes de la pagina 5 a la 11 a formato JSON en base64"
   ]
  },
  {
   "cell_type": "code",
   "execution_count": null,
   "metadata": {},
   "outputs": [],
   "source": [
    "import json\n",
    "import base64\n",
    "import os\n",
    "\n",
    "# Lista de carpetas donde se encuentran las imágenes\n",
    "carpetas_imagenes = ['imagenes_extraidas_instruction_icono', 'imagenes_extraidas_instruction_imagen', 'imagenes_extraidas_instruction_maquina']\n",
    "patrones = [\"pag_5\", \"pag_6\", \"pag_7\", \"pag_8\", \"pag_9\", \"pag_10\", \"pag_11\"]\n",
    "\n",
    "\n",
    "for carpeta_imagenes in carpetas_imagenes:\n",
    "   \n",
    "    archivos = [f for f in os.listdir(carpeta_imagenes) if any(patron in f for patron in patrones)]\n",
    "\n",
    "    for archivo in archivos:\n",
    "        ruta_completa = os.path.join(carpeta_imagenes, archivo)\n",
    "\n",
    "        # Codificar la imagen en base64\n",
    "        with open(ruta_completa, mode='rb') as file:\n",
    "            img = file.read()\n",
    "            data = base64.b64encode(img).decode('utf-8')\n",
    "\n",
    "        # Guardar la cadena en un objeto JSON\n",
    "        json_data = json.dumps(data)\n",
    "\n",
    "        # Nombre del archivo JSON basado en el nombre de la imagen\n",
    "        nombre_json = os.path.splitext(archivo)[0] + '.json'\n",
    "        ruta_json = os.path.join(carpeta_imagenes, nombre_json)\n",
    "\n",
    "        # Escribir el objeto JSON en un archivo\n",
    "        with open(ruta_json, 'w') as file:\n",
    "            file.write(json_data)\n",
    "\n",
    "    print(f\"Conversión completada para la carpeta {carpeta_imagenes}.\")\n"
   ]
  }
 ],
 "metadata": {
  "kernelspec": {
   "display_name": "Python 3",
   "language": "python",
   "name": "python3"
  },
  "language_info": {
   "codemirror_mode": {
    "name": "ipython",
    "version": 3
   },
   "file_extension": ".py",
   "mimetype": "text/x-python",
   "name": "python",
   "nbconvert_exporter": "python",
   "pygments_lexer": "ipython3",
   "version": "3.10.11"
  }
 },
 "nbformat": 4,
 "nbformat_minor": 2
}
