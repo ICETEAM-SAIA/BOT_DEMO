{
 "cells": [
  {
   "cell_type": "code",
   "execution_count": 1,
   "metadata": {},
   "outputs": [],
   "source": [
    "import tabula"
   ]
  },
  {
   "cell_type": "code",
   "execution_count": 2,
   "metadata": {},
   "outputs": [],
   "source": [
    "archivo_pdf = r'E:\\000-USUARIOS\\Pablo\\Documentos\\Documentos\\Marce\\Data y Machine Learning\\ICETEAM\\instruction_handbook.pdf'"
   ]
  },
  {
   "cell_type": "code",
   "execution_count": 4,
   "metadata": {},
   "outputs": [],
   "source": [
    "paginas = [15, 24, 29, 30, 33, 37, 38, 53]\n",
    "\n",
    "# Ruta de salida \n",
    "output_folder = r'E:\\000-USUARIOS\\Pablo\\Documentos\\Documentos\\Marce\\Data y Machine Learning\\ICETEAM\\tablas'\n",
    "\n",
    "def extraer_tablas_y_guardar(pdf_path, paginas, output_folder):\n",
    "    for pagina in paginas:\n",
    "   \n",
    "        tablas = tabula.read_pdf(pdf_path, pages=pagina, multiple_tables=True, stream=True)\n",
    "        \n",
    "        for i, tabla in enumerate(tablas):\n",
    "            nombre_csv = f\"{output_folder}tabla_pagina_{pagina}_{i}.csv\"\n",
    "            tabla.to_csv(nombre_csv, index=False)\n",
    "\n",
    "# Ejecuto la función\n",
    "extraer_tablas_y_guardar(archivo_pdf, paginas, output_folder)"
   ]
  }
 ],
 "metadata": {
  "kernelspec": {
   "display_name": "Python 3",
   "language": "python",
   "name": "python3"
  },
  "language_info": {
   "codemirror_mode": {
    "name": "ipython",
    "version": 3
   },
   "file_extension": ".py",
   "mimetype": "text/x-python",
   "name": "python",
   "nbconvert_exporter": "python",
   "pygments_lexer": "ipython3",
   "version": "3.11.0"
  }
 },
 "nbformat": 4,
 "nbformat_minor": 2
}
